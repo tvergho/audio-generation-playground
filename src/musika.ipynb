{
 "cells": [
  {
   "cell_type": "code",
   "execution_count": null,
   "metadata": {},
   "outputs": [],
   "source": [
    "!git clone https://github.com/marcoppasini/musika"
   ]
  },
  {
   "cell_type": "code",
   "execution_count": null,
   "metadata": {},
   "outputs": [],
   "source": [
    "!pip install -r musika/requirements.txt"
   ]
  },
  {
   "cell_type": "code",
   "execution_count": null,
   "metadata": {},
   "outputs": [],
   "source": [
    "# Run this for training a model from a set of encodings\n",
    "!python musika/musika_train.py --train_path /kaggle/input/musika-encodings/encodings2 --max_lat_len 256 --small True --share_gradio True"
   ]
  },
  {
   "cell_type": "code",
   "execution_count": null,
   "metadata": {},
   "outputs": [],
   "source": [
    "# Run this for testing a pre-trained model (loaded from load_path)\n",
    "!python musika/musika_test.py --load_path /kaggle/input/musikacheckpoint --share_gradio True --small True"
   ]
  }
 ],
 "metadata": {
  "language_info": {
   "name": "python"
  },
  "orig_nbformat": 4
 },
 "nbformat": 4,
 "nbformat_minor": 2
}
